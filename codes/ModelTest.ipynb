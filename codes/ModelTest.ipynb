{
 "cells": [
  {
   "cell_type": "code",
   "execution_count": 1,
   "metadata": {},
   "outputs": [],
   "source": [
    "import pandas as pd\n",
    "import numpy as np\n",
    "import shapely\n",
    "import matplotlib.pyplot as plt\n",
    "import seaborn as sns; sns.set()\n",
    "import geopandas as gpd\n",
    "import glob\n",
    "import os\n",
    "import seaborn as sns\n",
    "import copy\n",
    "from sklearn.model_selection import train_test_split\n",
    "from itertools import permutations, combinations\n",
    "\n",
    "from bayesianRidge import *\n",
    "from bayesian_network import *\n",
    "\n",
    "# Acquire paths and cellid\n",
    "paths = glob.glob('../data/Chosen_grids_data_add_class/*.csv')\n",
    "cellId = [os.path.splitext(os.path.basename(path))[0] for path in paths]"
   ]
  },
  {
   "cell_type": "code",
   "execution_count": 2,
   "metadata": {
    "collapsed": true
   },
   "outputs": [],
   "source": [
    "dfs = [pd.read_csv(path,parse_dates=['date']) for path in paths]"
   ]
  },
  {
   "cell_type": "code",
   "execution_count": 3,
   "metadata": {},
   "outputs": [
    {
     "name": "stdout",
     "output_type": "stream",
     "text": [
      "<class 'pandas.core.frame.DataFrame'>\n",
      "RangeIndex: 720 entries, 0 to 719\n",
      "Data columns (total 10 columns):\n",
      "date                720 non-null datetime64[ns]\n",
      "dayofweek           720 non-null int64\n",
      "hour                720 non-null int64\n",
      "current             720 non-null float64\n",
      "avg_current         720 non-null float64\n",
      "threshold           720 non-null float64\n",
      "current_class       720 non-null int64\n",
      "temperature         720 non-null float64\n",
      "temperature_diff    720 non-null float64\n",
      "precipitation       720 non-null float64\n",
      "dtypes: datetime64[ns](1), float64(6), int64(3)\n",
      "memory usage: 56.3 KB\n"
     ]
    }
   ],
   "source": [
    "dfs[0].info()"
   ]
  },
  {
   "cell_type": "code",
   "execution_count": 4,
   "metadata": {},
   "outputs": [
    {
     "data": {
      "text/plain": [
       "['3215', '5111', '5202', '2972', '5550']"
      ]
     },
     "execution_count": 4,
     "metadata": {},
     "output_type": "execute_result"
    }
   ],
   "source": [
    "cellId"
   ]
  },
  {
   "cell_type": "code",
   "execution_count": 5,
   "metadata": {
    "collapsed": true
   },
   "outputs": [],
   "source": [
    "edges = [('3215','5550'),('5202','2972'),('2972','5550'),('5550','5111')]"
   ]
  },
  {
   "cell_type": "code",
   "execution_count": 6,
   "metadata": {},
   "outputs": [
    {
     "data": {
      "text/html": [
       "<div>\n",
       "<style scoped>\n",
       "    .dataframe tbody tr th:only-of-type {\n",
       "        vertical-align: middle;\n",
       "    }\n",
       "\n",
       "    .dataframe tbody tr th {\n",
       "        vertical-align: top;\n",
       "    }\n",
       "\n",
       "    .dataframe thead th {\n",
       "        text-align: right;\n",
       "    }\n",
       "</style>\n",
       "<table border=\"1\" class=\"dataframe\">\n",
       "  <thead>\n",
       "    <tr style=\"text-align: right;\">\n",
       "      <th></th>\n",
       "      <th>date</th>\n",
       "      <th>dayofweek</th>\n",
       "      <th>hour</th>\n",
       "      <th>current</th>\n",
       "      <th>avg_current</th>\n",
       "      <th>threshold</th>\n",
       "      <th>current_class</th>\n",
       "      <th>temperature</th>\n",
       "      <th>temperature_diff</th>\n",
       "      <th>precipitation</th>\n",
       "    </tr>\n",
       "  </thead>\n",
       "  <tbody>\n",
       "    <tr>\n",
       "      <th>0</th>\n",
       "      <td>2013-11-01</td>\n",
       "      <td>4</td>\n",
       "      <td>0</td>\n",
       "      <td>-4.231813</td>\n",
       "      <td>74.981546</td>\n",
       "      <td>2.324921</td>\n",
       "      <td>0</td>\n",
       "      <td>9.6</td>\n",
       "      <td>4.4</td>\n",
       "      <td>0.0</td>\n",
       "    </tr>\n",
       "    <tr>\n",
       "      <th>1</th>\n",
       "      <td>2013-11-01</td>\n",
       "      <td>4</td>\n",
       "      <td>1</td>\n",
       "      <td>-1.574762</td>\n",
       "      <td>74.901375</td>\n",
       "      <td>0.314953</td>\n",
       "      <td>0</td>\n",
       "      <td>9.6</td>\n",
       "      <td>4.4</td>\n",
       "      <td>0.0</td>\n",
       "    </tr>\n",
       "    <tr>\n",
       "      <th>2</th>\n",
       "      <td>2013-11-01</td>\n",
       "      <td>4</td>\n",
       "      <td>2</td>\n",
       "      <td>-0.784519</td>\n",
       "      <td>72.364578</td>\n",
       "      <td>0.332132</td>\n",
       "      <td>0</td>\n",
       "      <td>9.6</td>\n",
       "      <td>4.4</td>\n",
       "      <td>0.0</td>\n",
       "    </tr>\n",
       "    <tr>\n",
       "      <th>3</th>\n",
       "      <td>2013-11-01</td>\n",
       "      <td>4</td>\n",
       "      <td>3</td>\n",
       "      <td>0.601272</td>\n",
       "      <td>69.976667</td>\n",
       "      <td>0.601272</td>\n",
       "      <td>0</td>\n",
       "      <td>9.6</td>\n",
       "      <td>4.4</td>\n",
       "      <td>0.0</td>\n",
       "    </tr>\n",
       "    <tr>\n",
       "      <th>4</th>\n",
       "      <td>2013-11-01</td>\n",
       "      <td>4</td>\n",
       "      <td>4</td>\n",
       "      <td>-1.494592</td>\n",
       "      <td>68.665321</td>\n",
       "      <td>0.481017</td>\n",
       "      <td>0</td>\n",
       "      <td>9.6</td>\n",
       "      <td>4.4</td>\n",
       "      <td>0.0</td>\n",
       "    </tr>\n",
       "  </tbody>\n",
       "</table>\n",
       "</div>"
      ],
      "text/plain": [
       "        date  dayofweek  hour   current  avg_current  threshold  \\\n",
       "0 2013-11-01          4     0 -4.231813    74.981546   2.324921   \n",
       "1 2013-11-01          4     1 -1.574762    74.901375   0.314953   \n",
       "2 2013-11-01          4     2 -0.784519    72.364578   0.332132   \n",
       "3 2013-11-01          4     3  0.601272    69.976667   0.601272   \n",
       "4 2013-11-01          4     4 -1.494592    68.665321   0.481017   \n",
       "\n",
       "   current_class  temperature  temperature_diff  precipitation  \n",
       "0              0          9.6               4.4            0.0  \n",
       "1              0          9.6               4.4            0.0  \n",
       "2              0          9.6               4.4            0.0  \n",
       "3              0          9.6               4.4            0.0  \n",
       "4              0          9.6               4.4            0.0  "
      ]
     },
     "execution_count": 6,
     "metadata": {},
     "output_type": "execute_result"
    }
   ],
   "source": [
    "dfs[0].head()"
   ]
  },
  {
   "cell_type": "code",
   "execution_count": 18,
   "metadata": {
    "scrolled": false
   },
   "outputs": [
    {
     "name": "stdout",
     "output_type": "stream",
     "text": [
      "Index(['date', 'dayofweek', 'hour', 'current', 'avg_current', 'threshold',\n",
      "       'current_class', 'temperature', 'temperature_diff', 'precipitation'],\n",
      "      dtype='object')\n"
     ]
    },
    {
     "data": {
      "image/png": "[encoded data removed]",
      "text/plain": [
       "<matplotlib.figure.Figure at 0x1a1a25c390>"
      ]
     },
     "metadata": {},
     "output_type": "display_data"
    },
    {
     "data": {
      "text/plain": [
       "defaultdict(int, {(0, 0): 2096, (0, 1): 128, (1, 0): 539, (1, 1): 117})"
      ]
     },
     "execution_count": 18,
     "metadata": {},
     "output_type": "execute_result"
    }
   ],
   "source": [
    "from itertools import permutations\n",
    "from collections import defaultdict\n",
    "\n",
    "def Generate_train_test(dfs, test_size=0.2, random_state=15):\n",
    "    # Given a list of dfs, and return train dfs and test dfs\n",
    "    # They contain samples with same indexes.\n",
    "    \n",
    "    train_dfs, test_dfs = [], []\n",
    "    \n",
    "    for df in dfs:\n",
    "        train_df, test_df = train_test_split(df,test_size=test_size,random_state=random_state)\n",
    "        train_dfs.append(train_df)\n",
    "        test_dfs.append(test_df)\n",
    "    \n",
    "    return train_dfs, test_dfs\n",
    "\n",
    "\n",
    "def Fit(cellId, edges, dfs):\n",
    "    # Learn the br and bn models separately, edges determine the structure of the graph\n",
    "    \n",
    "    # Learn the bayesian regression models for each cell\n",
    "    br_model = BR(cellId, dfs)\n",
    "    print(br_model.labels)\n",
    "    # Set parameters and target\n",
    "    params = ['temperature', 'temperature_diff', 'precipitation']\n",
    "    target = 'current'\n",
    "    br_model.fit(params, target)\n",
    "    \n",
    "    # Learn the bayesian network models for current network structure\n",
    "    # Using cellId and edges\n",
    "    bn_model = bayesian_network(cellId, edges)\n",
    "    \n",
    "    # Load current data into a dictionary\n",
    "    currnet_class_data = {id_: df for id_, df in zip(cellId, dfs)}\n",
    "    \n",
    "    bn_model.fit(currnet_class_data)\n",
    "    \n",
    "    return br_model, bn_model\n",
    "\n",
    "def Inference(br_model, bn_model, cellId, dfs):\n",
    "    # bg_model is the linear bayesian regression model,\n",
    "    # bn_model is the bayesian network model\n",
    "    # obs are the observatiosn in certain cell ids \n",
    "    # - time, temperature, temperature_diff, precipitation\n",
    "    \n",
    "    samples_nums = dfs[0].shape[0]\n",
    "    \n",
    "    # Results counts 4 terms, including\n",
    "    # (truth 0, predict 0), (truth 0, predict 1), (truth 1, predict 0), (truth 1, predict 1)\n",
    "    results = defaultdict(int)\n",
    "    \n",
    "    probs = br_model.predict(cellId, dfs) # acquire the prob for each cellId\n",
    "    \n",
    "    for i in range(samples_nums):\n",
    "        \n",
    "        # Select certain idx, do Inference for each combination of two networks\n",
    "        new_dfs = [df.iloc[i,:] for df in dfs]\n",
    "        \n",
    "        class_probs = [prob[i] for prob in probs]\n",
    "        \n",
    "        for (start, end) in permutations(cellId, 2):\n",
    "            \n",
    "            # Find the index of cellid in cellId\n",
    "            start_idx, end_idx = cellId.index(start), cellId.index(end)\n",
    "            \n",
    "            # Predict current class using weather conditions\n",
    "            \n",
    "            # Soft assign\n",
    "#             start_prob = class_probs[start_idx]\n",
    "            \n",
    "            # Hard assign\n",
    "            start_class = np.argmax(class_probs[start_idx])\n",
    "            start_prob = np.zeros((2,))\n",
    "            start_prob[start_class] = 1\n",
    "            \n",
    "            end_prob = bn_model.predict(start, end, start_prob)\n",
    "            \n",
    "            # Compare the results with grond truth\n",
    "            pd_class = np.argmax(end_prob)\n",
    "            gt_class = new_dfs[end_idx]['current_class']\n",
    "            \n",
    "            # count results\n",
    "            results[(gt_class,pd_class)] += 1\n",
    "\n",
    "    return results\n",
    "\n",
    "def Vasualize_results(results):\n",
    "    \n",
    "    probs = np.zeros((2,2))\n",
    "    for key, val in results.items(): probs[key] = val\n",
    "    probs = probs / np.sum(probs)\n",
    "    \n",
    "    plt.figure(figsize=(7,5))\n",
    "    sns.heatmap(probs,\n",
    "                annot=True,\n",
    "                xticklabels=[0, 1],\n",
    "                yticklabels=[0, 1])\n",
    "    plt.show()\n",
    "\n",
    "def Main(cellId, edges, dfs):\n",
    "    \n",
    "    # Split train and test dfs\n",
    "    train_dfs, test_dfs = Generate_train_test(dfs)\n",
    "    \n",
    "    # Train the bayesian regression and bayesian network model\n",
    "    br_model, bn_model = Fit(cellId, edges, train_dfs)\n",
    "    \n",
    "    # Inference and statistical results\n",
    "    results = Inference(br_model, bn_model, cellId, test_dfs)\n",
    "    \n",
    "    Vasualize_results(results)\n",
    "    \n",
    "    return results\n",
    "\n",
    "Main(cellId, edges, dfs)"
   ]
  },
  {
   "cell_type": "code",
   "execution_count": null,
   "metadata": {
    "collapsed": true
   },
   "outputs": [],
   "source": []
  }
 ],
 "metadata": {
  "kernelspec": {
   "display_name": "Python 3",
   "language": "python",
   "name": "python3"
  },
  "language_info": {
   "codemirror_mode": {
    "name": "ipython",
    "version": 3
   },
   "file_extension": ".py",
   "mimetype": "text/x-python",
   "name": "python",
   "nbconvert_exporter": "python",
   "pygments_lexer": "ipython3",
   "version": "3.6.2"
  }
 },
 "nbformat": 4,
 "nbformat_minor": 2
}
